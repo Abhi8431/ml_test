{
 "cells": [
  {
   "cell_type": "code",
   "execution_count": null,
   "id": "413e72a7",
   "metadata": {},
   "outputs": [],
   "source": [
    "import numpy as np\n",
    "from scipy import stats\n",
    "\n",
    "# Given data\n",
    "data = [115.3, 195.5, 120.5, 110.2, 90.4, 105.6, 110.9, 116.3, 122.3, 125.4]\n",
    "\n",
    "# Calculate the mean\n",
    "mean_value = np.mean(data)\n",
    "print(\"Mean:\", mean_value)\n",
    "\n",
    "# Calculate the median\n",
    "median_value = np.median(data)\n",
    "print(\"Median:\", median_value)\n",
    "\n",
    "# Calculate the mode\n",
    "# Note: stats.mode() returns a ModeResult object, so we access mode and count separately\n",
    "mode_result = stats.mode(data)\n",
    "print(\"Mode: \", mode_result)\n",
    "\n",
    "# Calculate the standard deviation\n",
    "std_deviation = np.std(data)\n",
    "print(\"Standard Deviation:\", std_deviation)\n",
    "\n",
    "# Calculate the variance\n",
    "variance = np.var(data)\n",
    "print(\"Variance:\", variance)\n",
    "\n",
    "# Min-Max normalization\n",
    "min_val = min(data)\n",
    "max_val = max(data)\n",
    "normalized_data = [(x - min_val) / (max_val - min_val) for x in data]\n",
    "print(\"Min-Max Normalization:\", normalized_data)\n",
    "\n",
    "# Z-score standardization\n",
    "standardized_data = [(x - mean_value) / std_deviation for x in data]\n",
    "print(\"Standardized Data:\", standardized_data)"
   ]
  }
 ],
 "metadata": {
  "kernelspec": {
   "display_name": "Python 3 (ipykernel)",
   "language": "python",
   "name": "python3"
  },
  "language_info": {
   "codemirror_mode": {
    "name": "ipython",
    "version": 3
   },
   "file_extension": ".py",
   "mimetype": "text/x-python",
   "name": "python",
   "nbconvert_exporter": "python",
   "pygments_lexer": "ipython3",
   "version": "3.9.12"
  }
 },
 "nbformat": 4,
 "nbformat_minor": 5
}
