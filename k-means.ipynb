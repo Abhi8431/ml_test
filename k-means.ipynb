{
 "cells": [
  {
   "cell_type": "code",
   "execution_count": null,
   "id": "0318d71d",
   "metadata": {},
   "outputs": [],
   "source": [
    "import numpy as np\n",
    "from sklearn.cluster import KMeans\n",
    "\n",
    "# Sample data points\n",
    "X = np.array([[5.9, 3.2],\n",
    "              [4.6, 2.9],\n",
    "              [6.2, 2.8],\n",
    "              [4.7, 3.2],\n",
    "              [5.5, 4.2],\n",
    "              [5.0, 3.0],\n",
    "              [4.9, 3.1],\n",
    "              [6.7, 3.1],\n",
    "              [5.1, 3.8],\n",
    "              [6.0, 3.0]])\n",
    "\n",
    "# Initial cluster centers\n",
    "initial_centers = np.array([[6.2, 3.2],   # Red cluster\n",
    "                            [6.6, 3.7],   # Green cluster\n",
    "                            [6.5, 3.0]])  # Blue cluster\n",
    "\n",
    "# Create a KMeans instance with specified parameters\n",
    "kmeans = KMeans(n_clusters=3, init=initial_centers, random_state=0, n_init=1)\n",
    "\n",
    "# Fit the KMeans model to the data for the first iteration\n",
    "kmeans.fit(X)  # First iteration\n",
    "\n",
    "# Get the center of cluster 1 after the first iteration\n",
    "cluster1_center_after_1_iteration = kmeans.cluster_centers_[0]\n",
    "print(\"Cluster 1 center after 1 iteration:\", np.round(cluster1_center_after_1_iteration, 3))\n",
    "\n",
    "# Fit the KMeans model to the data for the second iteration\n",
    "kmeans.fit(X)  # Second iteration\n",
    "\n",
    "# Get the center of cluster 2 after the second iteration\n",
    "cluster2_center_after_2_iteration = kmeans.cluster_centers_[1]\n",
    "print(\"Cluster 2 center after 2 iterations:\", np.round(cluster2_center_after_2_iteration, 3))\n",
    "\n",
    "# Create a KMeans instance for convergence with the default number of iterations (max_iter=300)\n",
    "kmeans_convergence = KMeans(n_clusters=3, init=initial_centers, random_state=0)\n",
    "\n",
    "# Fit the KMeans model to the data until convergence\n",
    "kmeans_convergence.fit(X)\n",
    "\n",
    "# Get the center of cluster 3 after convergence\n",
    "cluster3_center_after_convergence = kmeans_convergence.cluster_centers_[2]\n",
    "print(\"Cluster 3 center after convergence:\", np.round(cluster3_center_after_convergence, 3))\n",
    "\n",
    "# Print the number of iterations required for convergence\n",
    "print(\"Number of iterations for convergence:\", kmeans_convergence.n_iter_)"
   ]
  }
 ],
 "metadata": {
  "kernelspec": {
   "display_name": "Python 3 (ipykernel)",
   "language": "python",
   "name": "python3"
  },
  "language_info": {
   "codemirror_mode": {
    "name": "ipython",
    "version": 3
   },
   "file_extension": ".py",
   "mimetype": "text/x-python",
   "name": "python",
   "nbconvert_exporter": "python",
   "pygments_lexer": "ipython3",
   "version": "3.9.12"
  }
 },
 "nbformat": 4,
 "nbformat_minor": 5
}
